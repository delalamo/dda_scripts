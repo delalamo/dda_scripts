{
  "nbformat": 4,
  "nbformat_minor": 0,
  "metadata": {
    "colab": {
      "name": "mdds_tfp.ipynb",
      "provenance": [],
      "collapsed_sections": []
    },
    "kernelspec": {
      "name": "python3",
      "display_name": "Python 3"
    },
    "language_info": {
      "name": "python"
    }
  },
  "cells": [
    {
      "cell_type": "markdown",
      "metadata": {
        "id": "mhBXDX3T5QPO"
      },
      "source": [
        "[![Open In Colab](https://colab.research.google.com/assets/colab-badge.svg)](https://colab.research.google.com/github/delalamo/dda_scripts/blob/main/notebooks/mdds/mdds_tfp.ipynb)\n",
        "# Running MDDS on protein structures\n",
        "\n",
        "This notebook predicts distance distributions between pairs of amino acid residues using the [molecular dynamics of dummy spin label (MDDS)](https://pubs.acs.org/doi/10.1021/jp311723a) method. The script uses the [No U-Turn Sampler](http://www.stat.columbia.edu/~gelman/research/published/nuts.pdf), rather than classical Molecular Dynamics simulations, to sample the conformational space available to the dummy atom. The sampler is implemented in [TensorFlow Probability](https://www.tensorflow.org/probability/examples/TensorFlow_Probability_on_JAX), and most of the code uses Jax.\n",
        "\n",
        "To run this notebook, fill out the residue information below under \"Step 2\", then go to Runtime -> Run all.\n",
        "\n",
        "Currently I am in the process of adding functionality for custom PDBs."
      ]
    },
    {
      "cell_type": "code",
      "metadata": {
        "colab": {
          "base_uri": "https://localhost:8080/"
        },
        "id": "xGYbwlM0PryG",
        "collapsed": true,
        "cellView": "form",
        "outputId": "c86e54f6-a9a8-4e1b-963a-b6b5032864f3"
      },
      "source": [
        "#@title **Step 1:** Setup Colab environment\n",
        "\n",
        "%shell git clone https://github.com/biopython/biopython.git\n",
        "%shell pip install biopython/\n",
        "\n",
        "%shell git clone https://github.com/delalamo/dda_scripts\n",
        "\n",
        "from dda_scripts.notebooks.mdds import util\n",
        "\n",
        "import jax.numpy as jnp\n",
        "from jax import grad\n",
        "from jax import jit\n",
        "from jax import random\n",
        "from jax import value_and_grad\n",
        "from jax import vmap\n",
        "from tensorflow_probability.substrates import jax as tfp\n",
        "\n",
        "import matplotlib.pyplot as plt\n",
        "import numpy as np\n",
        "import os\n",
        "\n",
        "import pandas as pd\n",
        "from urllib.request import urlretrieve\n",
        "\n",
        "from google.colab import files\n",
        "\n",
        "import Bio.PDB"
      ],
      "execution_count": 1,
      "outputs": [
        {
          "output_type": "stream",
          "name": "stdout",
          "text": [
            "Cloning into 'biopython'...\n",
            "remote: Enumerating objects: 97428, done.\u001b[K\n",
            "remote: Counting objects: 100% (82/82), done.\u001b[K\n",
            "remote: Compressing objects: 100% (67/67), done.\u001b[K\n",
            "remote: Total 97428 (delta 39), reused 28 (delta 15), pack-reused 97346\u001b[K\n",
            "Receiving objects: 100% (97428/97428), 58.65 MiB | 21.26 MiB/s, done.\n",
            "Resolving deltas: 100% (73383/73383), done.\n",
            "Processing ./biopython\n",
            "\u001b[33m  DEPRECATION: A future pip version will change local packages to be built in-place without first copying to a temporary directory. We recommend you use --use-feature=in-tree-build to test your packages with this new behavior before it becomes the default.\n",
            "   pip 21.3 will remove support for this functionality. You can find discussion regarding this at https://github.com/pypa/pip/issues/7555.\u001b[0m\n",
            "Requirement already satisfied: numpy in /usr/local/lib/python3.7/dist-packages (from biopython==1.80.dev0) (1.19.5)\n",
            "Building wheels for collected packages: biopython\n",
            "  Building wheel for biopython (setup.py) ... \u001b[?25l\u001b[?25hdone\n",
            "  Created wheel for biopython: filename=biopython-1.80.dev0-cp37-cp37m-linux_x86_64.whl size=2839090 sha256=0f83776f4570fba7e4f0d7949395bfa9555fc6b9e49ec0715973dfb5cda9ea0a\n",
            "  Stored in directory: /tmp/pip-ephem-wheel-cache-o923_dku/wheels/34/9e/97/c11b2eb159e8669807c18a6b4b78330d1a179159c5e33a7c32\n",
            "Successfully built biopython\n",
            "Installing collected packages: biopython\n",
            "Successfully installed biopython-1.80.dev0\n",
            "Cloning into 'dda_scripts'...\n",
            "remote: Enumerating objects: 149, done.\u001b[K\n",
            "remote: Counting objects: 100% (149/149), done.\u001b[K\n",
            "remote: Compressing objects: 100% (96/96), done.\u001b[K\n",
            "remote: Total 149 (delta 43), reused 110 (delta 28), pack-reused 0\u001b[K\n",
            "Receiving objects: 100% (149/149), 181.48 KiB | 7.56 MiB/s, done.\n",
            "Resolving deltas: 100% (43/43), done.\n"
          ]
        }
      ]
    },
    {
      "cell_type": "code",
      "metadata": {
        "id": "ezONTe1MQQe1",
        "cellView": "form"
      },
      "source": [
        "#@title **Step 2:** Define input parameters\n",
        "#@markdown PDB ID of interest (must be four digits)\n",
        "pdb_id = \"2LZM\" #@param {type:\"string\"}\n",
        "upload_from_pdb = True  #@param {type:\"boolean\"}\n",
        "\n",
        "#@markdown Residue and chain indices (separated by a colon; e.g. 75:A or 115:B):\n",
        "residue1 = \"72:A\"  #@param {type:\"string\"}\n",
        "residue2 = \"131:A\" #@param {type:\"string\"}\n",
        "\n",
        "def to_res_chain( reschain ):\n",
        "  data = reschain.split( \":\" )\n",
        "  return int( data[ 0 ] ), data[ 1 ]\n",
        "\n",
        "residue1, chain1 = to_res_chain( residue1 )\n",
        "residue2, chain2 = to_res_chain( residue2 )\n"
      ],
      "execution_count": 2,
      "outputs": []
    },
    {
      "cell_type": "code",
      "metadata": {
        "id": "-DLrcdNRQ05l",
        "cellView": "form"
      },
      "source": [
        "#@title **Step 3:** Retrieve files and convert to model\n",
        "\n",
        "# Download PDB file\n",
        "# Make sure the PDB ID is four digits long\n",
        "if upload_from_pdb:\n",
        "  assert len( pdb_id ) == 4\n",
        "  pdbfile = f'{ pdb_id }.pdb'\n",
        "  urlretrieve( f'http://files.rcsb.org/download/{ pdb_id }.pdb',\n",
        "              pdbfile )\n",
        "else:\n",
        "  pdbfile = files.upload()\n",
        "  pdbfile = list( pdbfile.keys() )[ 0 ]\n",
        "model = Bio.PDB.PDBParser().get_structure( \"TEMP\", pdbfile )\n",
        "\n"
      ],
      "execution_count": 3,
      "outputs": []
    },
    {
      "cell_type": "code",
      "metadata": {
        "id": "fvsNWZuWSOTo",
        "colab": {
          "base_uri": "https://localhost:8080/",
          "height": 282
        },
        "cellView": "form",
        "outputId": "23149166-b16b-453b-e541-8635d42e3700"
      },
      "source": [
        "#@title **Step 4:** Run and download the prediction\n",
        "\n",
        "ca = util.get_atoms( model, \"CA\" )\n",
        "cb = util.get_atoms( model, \"CB\" )\n",
        "n = util.get_atoms( model, \"N\" )\n",
        "\n",
        "residues = [ ( residue1, chain1 ), ( residue2, chain2 ) ]\n",
        "\n",
        "params = util.set_params( residues )\n",
        "\n",
        "headers = list( params.keys() )\n",
        "x0 = tuple( params.values() )\n",
        "\n",
        "clash_atoms = { ( r, c ): util.calc_clashes( r, c, model, 10. ) for r, c in residues }\n",
        "\n",
        "@jit\n",
        "def log_likelihood_coords( *x ):\n",
        "  ll = 0.\n",
        "\n",
        "  res_pos = util.get_positions( x, headers, residues )\n",
        "\n",
        "  for ( res, chain ), xyz in res_pos.items():\n",
        "\n",
        "      ll += util.xyz_energy_clash(\n",
        "        xyz,\n",
        "        ca[ ( res, chain ) ],\n",
        "        cb[ ( res, chain ) ],\n",
        "        n[ ( res, chain ) ],\n",
        "        clash_atoms[ ( res, chain ) ]\n",
        "    )\n",
        "  \n",
        "  return ll\n",
        "\n",
        "init_key, sample_key = random.split( random.PRNGKey( 0 ) )\n",
        "kernel = tfp.mcmc.NoUTurnSampler( log_likelihood_coords, 1e-2 )\n",
        "\n",
        "states, log_probs = tfp.mcmc.sample_chain( 500,\n",
        "      current_state=x0,\n",
        "      kernel=kernel,\n",
        "      trace_fn=lambda _, results: results.target_log_prob,\n",
        "      num_burnin_steps=500,\n",
        "      seed=init_key )\n",
        "states = np.asarray( states )\n",
        "amps = np.zeros( 800 )\n",
        "for xyz1 in states[ :3, : ].transpose():\n",
        "  for xyz2 in states[ 3:, : ].transpose():\n",
        "    dist = np.linalg.norm( xyz1 - xyz2 )\n",
        "    if dist <= 80:\n",
        "      amps[ int( dist * 10 ) ] += 1\n",
        "plt.plot( np.arange( 0, 80, 0.1 ), amps )\n",
        "plt.show()\n",
        "df = pd.DataFrame( np.vstack( ( np.arange( 0, 80, 0.1 ), amps * 10. / amps.sum() ) ).transpose(), columns = [ \"distance\", \"amplitude\" ] )\n",
        "df.to_csv( \"result.csv\" )\n",
        "files.download( \"result.csv\" )"
      ],
      "execution_count": 4,
      "outputs": [
        {
          "output_type": "stream",
          "name": "stderr",
          "text": [
            "WARNING:absl:No GPU/TPU found, falling back to CPU. (Set TF_CPP_MIN_LOG_LEVEL=0 and rerun for more info.)\n"
          ]
        },
        {
          "output_type": "display_data",
          "data": {
            "image/png": "[encoded data removed]",
            "text/plain": [
              "<Figure size 432x288 with 1 Axes>"
            ]
          },
          "metadata": {
            "needs_background": "light"
          }
        },
        {
          "output_type": "display_data",
          "data": {
            "application/javascript": [
              "\n",
              "    async function download(id, filename, size) {\n",
              "      if (!google.colab.kernel.accessAllowed) {\n",
              "        return;\n",
              "      }\n",
              "      const div = document.createElement('div');\n",
              "      const label = document.createElement('label');\n",
              "      label.textContent = `Downloading \"${filename}\": `;\n",
              "      div.appendChild(label);\n",
              "      const progress = document.createElement('progress');\n",
              "      progress.max = size;\n",
              "      div.appendChild(progress);\n",
              "      document.body.appendChild(div);\n",
              "\n",
              "      const buffers = [];\n",
              "      let downloaded = 0;\n",
              "\n",
              "      const channel = await google.colab.kernel.comms.open(id);\n",
              "      // Send a message to notify the kernel that we're ready.\n",
              "      channel.send({})\n",
              "\n",
              "      for await (const message of channel.messages) {\n",
              "        // Send a message to notify the kernel that we're ready.\n",
              "        channel.send({})\n",
              "        if (message.buffers) {\n",
              "          for (const buffer of message.buffers) {\n",
              "            buffers.push(buffer);\n",
              "            downloaded += buffer.byteLength;\n",
              "            progress.value = downloaded;\n",
              "          }\n",
              "        }\n",
              "      }\n",
              "      const blob = new Blob(buffers, {type: 'application/binary'});\n",
              "      const a = document.createElement('a');\n",
              "      a.href = window.URL.createObjectURL(blob);\n",
              "      a.download = filename;\n",
              "      div.appendChild(a);\n",
              "      a.click();\n",
              "      div.remove();\n",
              "    }\n",
              "  "
            ],
            "text/plain": [
              "<IPython.core.display.Javascript object>"
            ]
          },
          "metadata": {}
        },
        {
          "output_type": "display_data",
          "data": {
            "application/javascript": [
              "download(\"download_2c515bba-49a3-40d1-8365-5680b6efd6bd\", \"result.csv\", 14927)"
            ],
            "text/plain": [
              "<IPython.core.display.Javascript object>"
            ]
          },
          "metadata": {}
        }
      ]
    }
  ]
}