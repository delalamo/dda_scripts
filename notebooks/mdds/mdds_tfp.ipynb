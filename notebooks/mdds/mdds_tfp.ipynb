{
  "nbformat": 4,
  "nbformat_minor": 0,
  "metadata": {
    "colab": {
      "name": "TFP_MDDS.ipynb",
      "provenance": [],
      "collapsed_sections": []
    },
    "kernelspec": {
      "name": "python3",
      "display_name": "Python 3"
    },
    "language_info": {
      "name": "python"
    }
  },
  "cells": [
    {
      "cell_type": "markdown",
      "metadata": {
        "id": "mhBXDX3T5QPO"
      },
      "source": [
        "# Running MDDS on protein structures\n",
        "\n",
        "This notebook predicts distance distributions between pairs of amino acid residues using the [molecular dynamics of dummy spin label (MDDS)](https://pubs.acs.org/doi/10.1021/jp311723a) method. The script uses the [No U-Turn Sampler](http://www.stat.columbia.edu/~gelman/research/published/nuts.pdf), rather than classical Molecular Dynamics simulations, to sample the conformational space available to the dummy atom. The sampler is implemented in [TensorFlow Probability](https://www.tensorflow.org/probability/examples/TensorFlow_Probability_on_JAX), and most of the code uses Jax.\n",
        "\n",
        "To run this notebook, fill out the residue information below under \"Step 2\", then go to Runtime -> Run all.\n",
        "\n",
        "Currently I am in the process of adding functionality for custom PDBs."
      ]
    },
    {
      "cell_type": "code",
      "metadata": {
        "colab": {
          "base_uri": "https://localhost:8080/"
        },
        "id": "xGYbwlM0PryG",
        "collapsed": true,
        "cellView": "form",
        "outputId": "bc46ddee-2d64-4d38-b121-638a7e046268"
      },
      "source": [
        "#@title **Step 1:** Setup Colab environment\n",
        "\n",
        "import jax.numpy as jnp\n",
        "from jax import grad\n",
        "from jax import jit\n",
        "from jax import random\n",
        "from jax import value_and_grad\n",
        "from jax import vmap\n",
        "from tensorflow_probability.substrates import jax as tfp\n",
        "\n",
        "import matplotlib.pyplot as plt\n",
        "import numpy as np\n",
        "import os\n",
        "from urllib.request import urlretrieve\n",
        "\n",
        "from google.colab import files\n",
        "\n",
        "!git clone https://github.com/biopython/biopython.git\n",
        "!pip install biopython/\n",
        "\n",
        "import Bio.PDB\n",
        "\n",
        "seed = np.random.randint( 1000000 )"
      ],
      "execution_count": 1,
      "outputs": [
        {
          "output_type": "stream",
          "name": "stdout",
          "text": [
            "Cloning into 'biopython'...\n",
            "remote: Enumerating objects: 97428, done.\u001b[K\n",
            "remote: Counting objects: 100% (82/82), done.\u001b[K\n",
            "remote: Compressing objects: 100% (67/67), done.\u001b[K\n",
            "remote: Total 97428 (delta 39), reused 27 (delta 15), pack-reused 97346\u001b[K\n",
            "Receiving objects: 100% (97428/97428), 58.66 MiB | 17.69 MiB/s, done.\n",
            "Resolving deltas: 100% (73393/73393), done.\n",
            "Processing ./biopython\n",
            "\u001b[33m  DEPRECATION: A future pip version will change local packages to be built in-place without first copying to a temporary directory. We recommend you use --use-feature=in-tree-build to test your packages with this new behavior before it becomes the default.\n",
            "   pip 21.3 will remove support for this functionality. You can find discussion regarding this at https://github.com/pypa/pip/issues/7555.\u001b[0m\n",
            "Requirement already satisfied: numpy in /usr/local/lib/python3.7/dist-packages (from biopython==1.80.dev0) (1.19.5)\n",
            "Building wheels for collected packages: biopython\n",
            "  Building wheel for biopython (setup.py) ... \u001b[?25l\u001b[?25hdone\n",
            "  Created wheel for biopython: filename=biopython-1.80.dev0-cp37-cp37m-linux_x86_64.whl size=2839107 sha256=75de7804df12cb613473d278c6983014b6856c565e72e4284477c98848ed1bcd\n",
            "  Stored in directory: /tmp/pip-ephem-wheel-cache-9s20xlnp/wheels/34/9e/97/c11b2eb159e8669807c18a6b4b78330d1a179159c5e33a7c32\n",
            "Successfully built biopython\n",
            "Installing collected packages: biopython\n",
            "Successfully installed biopython-1.80.dev0\n"
          ]
        }
      ]
    },
    {
      "cell_type": "code",
      "metadata": {
        "id": "ezONTe1MQQe1"
      },
      "source": [
        "#@title **Step 2:** Define input parameters\n",
        "#@markdown PDB ID of interest (must be four digits)\n",
        "pdb_id = \"2LZM\" #@param {type:\"string\"}\n",
        "\n",
        "#@markdown Residue and chain indices (separated by a colon):\n",
        "residue1 = \"79:A\"  #@param {type:\"string\"}\n",
        "residue2 = \"131:A\" #@param {type:\"string\"}\n",
        "\n",
        "def to_res_chain( reschain ):\n",
        "  data = reschain.split( \":\" )\n",
        "  return int( data[ 0 ] ), data[ 1 ]\n",
        "\n",
        "residue1, chain1 = to_res_chain( residue1 )\n",
        "residue2, chain2 = to_res_chain( residue2 )\n"
      ],
      "execution_count": 2,
      "outputs": []
    },
    {
      "cell_type": "code",
      "metadata": {
        "id": "UAbMvxJl9tWm"
      },
      "source": [
        "#@title **Step 3:** Define functions\n",
        "\n",
        "def get_atoms( model, atom ):\n",
        "  atoms = dict()\n",
        "  for chain in model.get_chains():\n",
        "    for res in chain.get_residues():\n",
        "      tempatom = atom\n",
        "      if res.resname == \"GLY\" and atom == \"CB\":\n",
        "        tempatom = \"HB\"\n",
        "      try:\n",
        "        atoms[ ( res.get_id()[ 1 ], chain.get_id() ) ] = res[ tempatom ].get_vector().get_array()\n",
        "      except:\n",
        "        #problem wit glycines\n",
        "        #print( f\"Error reading chain { chain } residue { res }\" )\n",
        "        continue\n",
        "\n",
        "  return atoms\n",
        "\n",
        "def calc_clashes( res, chain, model, dist ):\n",
        "  xyz_ca = model[ 0 ][ chain ][ res ][ \"CA\" ].coord\n",
        "  \n",
        "  clashing_atoms = []\n",
        "  for atom in model.get_atoms():\n",
        "    if \"H\" in atom.name:\n",
        "      continue\n",
        "    if np.linalg.norm( atom.coord - xyz_ca ) < dist:\n",
        "      clashing_atoms.append( atom.coord )\n",
        "  return clashing_atoms\n",
        "\n",
        "def get_positions( x, headers, residues ):\n",
        "\n",
        "\txyz = dict()\n",
        "\n",
        "\tfor r, c in residues:\n",
        "\t\txyz[ ( r, c ) ] = [\n",
        "\t\t\tx[ headers.index( f\"{ r }_{ c }_x\" ) ],\n",
        "\t\t\tx[ headers.index( f\"{ r }_{ c }_y\" ) ],\n",
        "\t\t\tx[ headers.index( f\"{ r }_{ c }_z\" ) ]\n",
        "\t\t]\n",
        "\treturn xyz\n",
        "\n",
        "def set_params( residues ):\n",
        "\n",
        "  params = {}\n",
        "\n",
        "  for r, c in residues:\n",
        "    params[ f\"{ r }_{ c }_x\" ] = np.random.uniform( low=-25, high=25 )\n",
        "    params[ f\"{ r }_{ c }_y\" ] = np.random.uniform( low=-25, high=25 )\n",
        "    params[ f\"{ r }_{ c }_z\" ] = np.random.uniform( low=-25, high=25 )\n",
        "\t\n",
        "  return params\n",
        "\n",
        "@jit\n",
        "def vdw( x1, x2 ):\n",
        "  d = jnp.linalg.norm( x1 - x2 )\n",
        "  return -0.2 * ( ( 4. / d ) ** 12. - ( 4. / d ) ** 6 )\n",
        "\n",
        "vdw_batch = vmap( vdw, in_axes=( None, 0 ) )\n",
        "\n",
        "@jit\n",
        "def xyz_energy_clash( xyz, ca, cb, n, neighbors ):\n",
        "\n",
        "\t# Calculate distance\n",
        "\tcb = jnp.array( cb, dtype=jnp.float32 )\n",
        "\tneighbors = jnp.array( neighbors, dtype=jnp.float32 )\n",
        " \n",
        "\tca = jnp.array( ca, dtype=jnp.float32 )\n",
        "\txyz = jnp.array( xyz, dtype=jnp.float32 )\n",
        " \n",
        "  \n",
        "\te_clash = vdw_batch( xyz, neighbors ).sum()\n",
        "\n",
        "\td = jnp.sqrt( ( ( xyz - ca ) ** 2 ).sum() )\n",
        "\te_d = -0.5 * ( d - 8.0 ) ** 2\n",
        "\n",
        "\t# Calculate angle\n",
        "\txyz_ca = xyz - ca\n",
        "\tcb_ca = cb - ca\n",
        " \n",
        "\ttheta = jnp.dot( xyz_ca, cb_ca ) / (\n",
        "\t\tjnp.linalg.norm( xyz_ca ) * jnp.linalg.norm( cb_ca ) )\n",
        "\te_theta = -1 * ( 0.9599 - theta ) ** 2 # in radians\n",
        "\n",
        "\t# Calculate dihedral N-CA-CB-ON\n",
        "\n",
        "\txyz_cb = xyz - cb\n",
        "\tca_cb = ca - cb\n",
        "\tn_ca = n - ca\n",
        "\n",
        "\tca_cb_norm = ca_cb / jnp.linalg.norm( ca_cb )\n",
        "\n",
        "\tv = xyz_cb - jnp.dot( xyz_cb, ca_cb_norm ) * ca_cb_norm\n",
        "\tw = n_ca - jnp.dot( n_ca, ca_cb_norm ) * ca_cb_norm\n",
        "\n",
        "\tx = jnp.dot( v, w )\n",
        "\ty = jnp.dot( jnp.cross( ca_cb_norm, v ), w )\n",
        "\n",
        "\tphi = jnp.arctan2( y, x )\n",
        "\n",
        "\te_phi = -1.9 * ( 1. + jnp.cos( phi - 4.1888 ) ) # in radians\n",
        "\n",
        "\treturn e_clash + e_d + e_theta + e_phi"
      ],
      "execution_count": 3,
      "outputs": []
    },
    {
      "cell_type": "code",
      "metadata": {
        "id": "-DLrcdNRQ05l"
      },
      "source": [
        "#@title **Step 4:** Retrieve files and convert to model\n",
        "\n",
        "# Download PDB file\n",
        "# Make sure the PDB ID is four digits long\n",
        "assert len( pdb_id ) == 4\n",
        "pdbfile = f'{ pdb_id }.pdb'\n",
        "urlretrieve( f'http://files.rcsb.org/download/{ pdb_id }.pdb',\n",
        "            pdbfile )\n",
        "model = Bio.PDB.PDBParser().get_structure( \"TEMP\", pdbfile )\n",
        "\n"
      ],
      "execution_count": 4,
      "outputs": []
    },
    {
      "cell_type": "code",
      "metadata": {
        "id": "fvsNWZuWSOTo",
        "colab": {
          "base_uri": "https://localhost:8080/"
        },
        "outputId": "fdb614f4-a5df-4a06-f158-11007eb5064f"
      },
      "source": [
        "#@title **Step 5:** Set up parameters and fit function, run the prediction\n",
        "\n",
        "ca = get_atoms( model, \"CA\" )\n",
        "cb = get_atoms( model, \"CB\" )\n",
        "n = get_atoms( model, \"N\" )\n",
        "\n",
        "residues = [ ( residue1, chain1 ), ( residue2, chain2 ) ]\n",
        "\n",
        "params = set_params( residues )\n",
        "\n",
        "headers = list( params.keys() )\n",
        "x0 = tuple( params.values() )\n",
        "\n",
        "clash_atoms = { ( r, c ): calc_clashes( r, c, model, 10. ) for r, c in residues }\n",
        "\n",
        "@jit\n",
        "def log_likelihood_coords( *x ):\n",
        "  ll = 0.\n",
        "\n",
        "  res_pos = get_positions( x, headers, residues )\n",
        "\n",
        "  for ( res, chain ), xyz in res_pos.items():\n",
        "\n",
        "      ll += xyz_energy_clash(\n",
        "        xyz,\n",
        "        ca[ ( res, chain ) ],\n",
        "        cb[ ( res, chain ) ],\n",
        "        n[ ( res, chain ) ],\n",
        "        clash_atoms[ ( res, chain ) ]\n",
        "    )\n",
        "\n",
        "#    ll += xyz_energy(\n",
        "#        xyz,\n",
        "#        ca[ ( res, chain ) ],\n",
        "#        cb[ ( res, chain ) ],\n",
        "#        n[ ( res, chain ) ]\n",
        "#    )\n",
        "  \n",
        "  return ll\n",
        "\n",
        "init_key, sample_key = random.split( random.PRNGKey( 0 ) )\n",
        "kernel = tfp.mcmc.NoUTurnSampler( log_likelihood_coords, 1e-2 )\n",
        "\n",
        "states, log_probs = tfp.mcmc.sample_chain( 10000,\n",
        "      current_state=x0,\n",
        "      kernel=kernel,\n",
        "      trace_fn=lambda _, results: results.target_log_prob,\n",
        "      num_burnin_steps=500,\n",
        "      seed=init_key )"
      ],
      "execution_count": 5,
      "outputs": [
        {
          "output_type": "stream",
          "name": "stderr",
          "text": [
            "WARNING:absl:No GPU/TPU found, falling back to CPU. (Set TF_CPP_MIN_LOG_LEVEL=0 and rerun for more info.)\n"
          ]
        }
      ]
    },
    {
      "cell_type": "code",
      "metadata": {
        "id": "kS2geBGTAJSK",
        "colab": {
          "base_uri": "https://localhost:8080/",
          "height": 265
        },
        "outputId": "bfa4194e-ffd7-450a-acae-6bab95d5628e"
      },
      "source": [
        "states = np.asarray( states )\n",
        "dists = np.linalg.norm( states[ :3, : ] - states[ 3:, : ], axis=0 )\n",
        "plt.hist( dists, bins=161 )\n",
        "plt.xlim( 0, 80 )\n",
        "plt.show()"
      ],
      "execution_count": 6,
      "outputs": [
        {
          "output_type": "display_data",
          "data": {
            "image/png": "[encoded data removed]",
            "text/plain": [
              "<Figure size 432x288 with 1 Axes>"
            ]
          },
          "metadata": {
            "needs_background": "light"
          }
        }
      ]
    },
    {
      "cell_type": "code",
      "metadata": {
        "id": "3trD3Yhpd-r-"
      },
      "source": [
        ""
      ],
      "execution_count": 6,
      "outputs": []
    }
  ]
}
