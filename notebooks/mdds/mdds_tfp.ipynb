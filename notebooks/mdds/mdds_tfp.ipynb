{
  "nbformat": 4,
  "nbformat_minor": 0,
  "metadata": {
    "colab": {
      "name": "mdds_tfp.ipynb",
      "provenance": [],
      "collapsed_sections": []
    },
    "kernelspec": {
      "name": "python3",
      "display_name": "Python 3"
    },
    "language_info": {
      "name": "python"
    }
  },
  "cells": [
    {
      "cell_type": "markdown",
      "metadata": {
        "id": "mhBXDX3T5QPO"
      },
      "source": [
        "[![Open In Colab](https://colab.research.google.com/assets/colab-badge.svg)](https://colab.research.google.com/github/delalamo/dda_scripts/blob/main/notebooks/mdds/mdds_tfp.ipynb)\n",
        "# Running MDDS on protein structures\n",
        "\n",
        "This notebook predicts distance distributions between pairs of amino acid residues using the [molecular dynamics of dummy spin label (MDDS)](https://pubs.acs.org/doi/10.1021/jp311723a) method. The script uses the [No U-Turn Sampler](http://www.stat.columbia.edu/~gelman/research/published/nuts.pdf), rather than classical Molecular Dynamics simulations, to sample the conformational space available to the dummy atom. The sampler is implemented in [TensorFlow Probability](https://www.tensorflow.org/probability/examples/TensorFlow_Probability_on_JAX), and most of the code uses Jax.\n",
        "\n",
        "To run this notebook, fill out the residue information below under \"Step 2\", then go to Runtime -> Run all.\n",
        "\n",
        "Currently I am in the process of adding functionality for custom PDBs."
      ]
    },
    {
      "cell_type": "code",
      "metadata": {
        "colab": {
          "base_uri": "https://localhost:8080/"
        },
        "id": "xGYbwlM0PryG",
        "collapsed": true,
        "outputId": "e43714cc-8aa0-40ac-8a5b-07f53c50a636"
      },
      "source": [
        "#@title **Step 1:** Setup Colab environment\n",
        "\n",
        "%shell git clone https://github.com/biopython/biopython.git\n",
        "%shell pip install biopython/\n",
        "\n",
        "%shell git clone https://github.com/delalamo/dda_scripts\n",
        "\n",
        "from dda_scripts.notebooks.mdds import util\n",
        "\n",
        "import jax.numpy as jnp\n",
        "from jax import grad\n",
        "from jax import jit\n",
        "from jax import random\n",
        "from jax import value_and_grad\n",
        "from jax import vmap\n",
        "from tensorflow_probability.substrates import jax as tfp\n",
        "\n",
        "import matplotlib.pyplot as plt\n",
        "import numpy as np\n",
        "import os\n",
        "from urllib.request import urlretrieve\n",
        "\n",
        "from google.colab import files\n",
        "\n",
        "import Bio.PDB"
      ],
      "execution_count": 1,
      "outputs": [
        {
          "output_type": "stream",
          "name": "stdout",
          "text": [
            "Cloning into 'biopython'...\n",
            "remote: Enumerating objects: 97428, done.\u001b[K\n",
            "remote: Counting objects: 100% (82/82), done.\u001b[K\n",
            "remote: Compressing objects: 100% (67/67), done.\u001b[K\n",
            "remote: Total 97428 (delta 39), reused 28 (delta 15), pack-reused 97346\u001b[K\n",
            "Receiving objects: 100% (97428/97428), 58.66 MiB | 8.55 MiB/s, done.\n",
            "Resolving deltas: 100% (73389/73389), done.\n",
            "Processing ./biopython\n",
            "\u001b[33m  DEPRECATION: A future pip version will change local packages to be built in-place without first copying to a temporary directory. We recommend you use --use-feature=in-tree-build to test your packages with this new behavior before it becomes the default.\n",
            "   pip 21.3 will remove support for this functionality. You can find discussion regarding this at https://github.com/pypa/pip/issues/7555.\u001b[0m\n",
            "Requirement already satisfied: numpy in /usr/local/lib/python3.7/dist-packages (from biopython==1.80.dev0) (1.19.5)\n",
            "Building wheels for collected packages: biopython\n",
            "  Building wheel for biopython (setup.py) ... \u001b[?25l\u001b[?25hdone\n",
            "  Created wheel for biopython: filename=biopython-1.80.dev0-cp37-cp37m-linux_x86_64.whl size=2839070 sha256=b3361c1b52476d85d051a76368b92aa8bdba6219b45ccf0178d64ab5d64e3bd5\n",
            "  Stored in directory: /tmp/pip-ephem-wheel-cache-xkouzb2k/wheels/34/9e/97/c11b2eb159e8669807c18a6b4b78330d1a179159c5e33a7c32\n",
            "Successfully built biopython\n",
            "Installing collected packages: biopython\n",
            "Successfully installed biopython-1.80.dev0\n",
            "Cloning into 'dda_scripts'...\n",
            "remote: Enumerating objects: 144, done.\u001b[K\n",
            "remote: Counting objects: 100% (144/144), done.\u001b[K\n",
            "remote: Compressing objects: 100% (91/91), done.\u001b[K\n",
            "remote: Total 144 (delta 42), reused 106 (delta 28), pack-reused 0\u001b[K\n",
            "Receiving objects: 100% (144/144), 170.95 KiB | 9.00 MiB/s, done.\n",
            "Resolving deltas: 100% (42/42), done.\n"
          ]
        }
      ]
    },
    {
      "cell_type": "code",
      "metadata": {
        "id": "ezONTe1MQQe1"
      },
      "source": [
        "#@title **Step 2:** Define input parameters\n",
        "#@markdown PDB ID of interest (must be four digits)\n",
        "pdb_id = \"4DJI\" #@param {type:\"string\"}\n",
        "upload_from_pdb = True  #@param {type:\"boolean\"}\n",
        "\n",
        "#@markdown Residue and chain indices (separated by a colon; e.g. 75:A or 115:B):\n",
        "residue1 = \"117:A\"  #@param {type:\"string\"}\n",
        "residue2 = \"441:A\" #@param {type:\"string\"}\n",
        "\n",
        "def to_res_chain( reschain ):\n",
        "  data = reschain.split( \":\" )\n",
        "  return int( data[ 0 ] ), data[ 1 ]\n",
        "\n",
        "residue1, chain1 = to_res_chain( residue1 )\n",
        "residue2, chain2 = to_res_chain( residue2 )\n"
      ],
      "execution_count": 22,
      "outputs": []
    },
    {
      "cell_type": "code",
      "metadata": {
        "id": "-DLrcdNRQ05l"
      },
      "source": [
        "#@title **Step 4:** Retrieve files and convert to model\n",
        "\n",
        "# Download PDB file\n",
        "# Make sure the PDB ID is four digits long\n",
        "if upload_from_pdb:\n",
        "  assert len( pdb_id ) == 4\n",
        "  pdbfile = f'{ pdb_id }.pdb'\n",
        "  urlretrieve( f'http://files.rcsb.org/download/{ pdb_id }.pdb',\n",
        "              pdbfile )\n",
        "else:\n",
        "  pdbfile = files.upload()\n",
        "  pdbfile = list( pdbfile.keys() )[ 0 ]\n",
        "model = Bio.PDB.PDBParser().get_structure( \"TEMP\", pdbfile )\n",
        "\n"
      ],
      "execution_count": 26,
      "outputs": []
    },
    {
      "cell_type": "code",
      "metadata": {
        "id": "fvsNWZuWSOTo"
      },
      "source": [
        "#@title **Step 5:** Set up parameters and fit function, run the prediction\n",
        "\n",
        "ca = util.get_atoms( model, \"CA\" )\n",
        "cb = util.get_atoms( model, \"CB\" )\n",
        "n = util.get_atoms( model, \"N\" )\n",
        "\n",
        "residues = [ ( residue1, chain1 ), ( residue2, chain2 ) ]\n",
        "\n",
        "params = util.set_params( residues )\n",
        "\n",
        "headers = list( params.keys() )\n",
        "x0 = tuple( params.values() )\n",
        "\n",
        "clash_atoms = { ( r, c ): util.calc_clashes( r, c, model, 10. ) for r, c in residues }\n",
        "\n",
        "@jit\n",
        "def log_likelihood_coords( *x ):\n",
        "  ll = 0.\n",
        "\n",
        "  res_pos = util.get_positions( x, headers, residues )\n",
        "\n",
        "  for ( res, chain ), xyz in res_pos.items():\n",
        "\n",
        "      ll += util.xyz_energy_clash(\n",
        "        xyz,\n",
        "        ca[ ( res, chain ) ],\n",
        "        cb[ ( res, chain ) ],\n",
        "        n[ ( res, chain ) ],\n",
        "        clash_atoms[ ( res, chain ) ]\n",
        "    )\n",
        "  \n",
        "  return ll\n",
        "\n",
        "init_key, sample_key = random.split( random.PRNGKey( 0 ) )\n",
        "kernel = tfp.mcmc.NoUTurnSampler( log_likelihood_coords, 1e-2 )\n",
        "\n",
        "states, log_probs = tfp.mcmc.sample_chain( 500,\n",
        "      current_state=x0,\n",
        "      kernel=kernel,\n",
        "      trace_fn=lambda _, results: results.target_log_prob,\n",
        "      num_burnin_steps=500,\n",
        "      seed=init_key )"
      ],
      "execution_count": 27,
      "outputs": []
    },
    {
      "cell_type": "code",
      "metadata": {
        "id": "kS2geBGTAJSK"
      },
      "source": [
        "states = np.asarray( states )\n",
        "amps = np.zeros( 800 )\n",
        "for xyz1 in states[ :3, : ].transpose():\n",
        "  for xyz2 in states[ 3:, : ].transpose():\n",
        "    dist = np.linalg.norm( xyz1 - xyz2 )\n",
        "    if dist <= 80:\n",
        "      amps[ int( dist * 10 ) ] += 1\n",
        "plt.plot( np.arange( 0, 80, 0.1 ), amps )"
      ],
      "execution_count": 28,
      "outputs": []
    },
    {
      "cell_type": "code",
      "metadata": {
        "id": "w3RWR0U3WPlj",
        "outputId": "4caad742-d825-4286-f968-1a4fd92db7d3",
        "colab": {
          "base_uri": "https://localhost:8080/",
          "height": 282
        }
      },
      "source": [
        ""
      ],
      "execution_count": 29,
      "outputs": [
        {
          "output_type": "execute_result",
          "data": {
            "text/plain": [
              "<function matplotlib.pyplot.show>"
            ]
          },
          "metadata": {},
          "execution_count": 29
        },
        {
          "output_type": "display_data",
          "data": {
            "image/png": "[encoded data removed]",
            "text/plain": [
              "<Figure size 432x288 with 1 Axes>"
            ]
          },
          "metadata": {
            "needs_background": "light"
          }
        }
      ]
    },
    {
      "cell_type": "code",
      "metadata": {
        "id": "O6tJyoz8ViyQ"
      },
      "source": [
        ""
      ],
      "execution_count": null,
      "outputs": []
    }
  ]
}